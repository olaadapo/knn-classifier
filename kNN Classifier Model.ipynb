{
 "cells": [
  {
   "cell_type": "markdown",
   "metadata": {},
   "source": [
    "## k-nearest neighbors (*kNN*) classifier implemented from scratch\n",
    "\n",
    "---"
   ]
  },
  {
   "cell_type": "markdown",
   "metadata": {},
   "source": [
    "#### note:\n",
    "\n",
    "- not as efficient as scikit-learn's implementation (~4000 data points with 7 mins training + validation)\n",
    "- simply an exercise to get intuitive understanding of the algorithm\n",
    "\n",
    "---"
   ]
  },
  {
   "cell_type": "markdown",
   "metadata": {},
   "source": [
    "import packages for data manipulation and matrix operations\n",
    "\n",
    "---"
   ]
  },
  {
   "cell_type": "code",
   "execution_count": 1,
   "metadata": {
    "collapsed": true
   },
   "outputs": [],
   "source": [
    "import pandas as pd\n",
    "import numpy as np\n",
    "from scipy import stats\n",
    "from sklearn.model_selection import train_test_split\n",
    "from sklearn.metrics.pairwise import cosine_similarity\n",
    "import time"
   ]
  },
  {
   "cell_type": "markdown",
   "metadata": {},
   "source": [
    "### data read-in\n",
    "\n",
    "- data is on loan applications to a bank\n",
    "- each row is a customer\n",
    "- features are demographic and banking info on a customer\n",
    "- target is if loan is approved (Personal Loan = 1) or not (Personal Loan = 0)\n",
    "\n",
    "---"
   ]
  },
  {
   "cell_type": "code",
   "execution_count": 2,
   "metadata": {},
   "outputs": [
    {
     "name": "stdout",
     "output_type": "stream",
     "text": [
      "\n",
      "Dataset has 14 attributes on 5000 banking customers applying for loans\n",
      "\n"
     ]
    }
   ],
   "source": [
    "knn_data = pd.read_excel('knndata.xlsx')\n",
    "\n",
    "print('')\n",
    "print('Dataset has {} attributes on {} banking customers applying for loans'.format(knn_data.shape[1], knn_data.shape[0]))\n",
    "print('')"
   ]
  },
  {
   "cell_type": "code",
   "execution_count": 3,
   "metadata": {},
   "outputs": [
    {
     "data": {
      "text/html": [
       "<div>\n",
       "<style>\n",
       "    .dataframe thead tr:only-child th {\n",
       "        text-align: right;\n",
       "    }\n",
       "\n",
       "    .dataframe thead th {\n",
       "        text-align: left;\n",
       "    }\n",
       "\n",
       "    .dataframe tbody tr th {\n",
       "        vertical-align: top;\n",
       "    }\n",
       "</style>\n",
       "<table border=\"1\" class=\"dataframe\">\n",
       "  <thead>\n",
       "    <tr style=\"text-align: right;\">\n",
       "      <th></th>\n",
       "      <th>Age</th>\n",
       "      <th>Experience</th>\n",
       "      <th>Income</th>\n",
       "      <th>Family</th>\n",
       "      <th>CCAvg</th>\n",
       "      <th>UG</th>\n",
       "      <th>GR</th>\n",
       "      <th>ADV</th>\n",
       "      <th>Mortgage</th>\n",
       "      <th>Securities Account</th>\n",
       "      <th>CD Account</th>\n",
       "      <th>Online</th>\n",
       "      <th>CreditCard</th>\n",
       "      <th>Personal Loan</th>\n",
       "    </tr>\n",
       "  </thead>\n",
       "  <tbody>\n",
       "    <tr>\n",
       "      <th>0</th>\n",
       "      <td>25</td>\n",
       "      <td>1</td>\n",
       "      <td>49</td>\n",
       "      <td>4</td>\n",
       "      <td>1.6</td>\n",
       "      <td>1</td>\n",
       "      <td>0</td>\n",
       "      <td>0</td>\n",
       "      <td>0</td>\n",
       "      <td>1</td>\n",
       "      <td>0</td>\n",
       "      <td>0</td>\n",
       "      <td>0</td>\n",
       "      <td>0</td>\n",
       "    </tr>\n",
       "    <tr>\n",
       "      <th>1</th>\n",
       "      <td>45</td>\n",
       "      <td>19</td>\n",
       "      <td>34</td>\n",
       "      <td>3</td>\n",
       "      <td>1.5</td>\n",
       "      <td>1</td>\n",
       "      <td>0</td>\n",
       "      <td>0</td>\n",
       "      <td>0</td>\n",
       "      <td>1</td>\n",
       "      <td>0</td>\n",
       "      <td>0</td>\n",
       "      <td>0</td>\n",
       "      <td>0</td>\n",
       "    </tr>\n",
       "    <tr>\n",
       "      <th>2</th>\n",
       "      <td>39</td>\n",
       "      <td>15</td>\n",
       "      <td>11</td>\n",
       "      <td>1</td>\n",
       "      <td>1.0</td>\n",
       "      <td>1</td>\n",
       "      <td>0</td>\n",
       "      <td>0</td>\n",
       "      <td>0</td>\n",
       "      <td>0</td>\n",
       "      <td>0</td>\n",
       "      <td>0</td>\n",
       "      <td>0</td>\n",
       "      <td>0</td>\n",
       "    </tr>\n",
       "    <tr>\n",
       "      <th>3</th>\n",
       "      <td>35</td>\n",
       "      <td>9</td>\n",
       "      <td>100</td>\n",
       "      <td>1</td>\n",
       "      <td>2.7</td>\n",
       "      <td>0</td>\n",
       "      <td>1</td>\n",
       "      <td>0</td>\n",
       "      <td>0</td>\n",
       "      <td>0</td>\n",
       "      <td>0</td>\n",
       "      <td>0</td>\n",
       "      <td>0</td>\n",
       "      <td>0</td>\n",
       "    </tr>\n",
       "    <tr>\n",
       "      <th>4</th>\n",
       "      <td>35</td>\n",
       "      <td>8</td>\n",
       "      <td>45</td>\n",
       "      <td>4</td>\n",
       "      <td>1.0</td>\n",
       "      <td>0</td>\n",
       "      <td>1</td>\n",
       "      <td>0</td>\n",
       "      <td>0</td>\n",
       "      <td>0</td>\n",
       "      <td>0</td>\n",
       "      <td>0</td>\n",
       "      <td>1</td>\n",
       "      <td>0</td>\n",
       "    </tr>\n",
       "  </tbody>\n",
       "</table>\n",
       "</div>"
      ],
      "text/plain": [
       "   Age  Experience  Income  Family  CCAvg  UG  GR  ADV  Mortgage  \\\n",
       "0   25           1      49       4    1.6   1   0    0         0   \n",
       "1   45          19      34       3    1.5   1   0    0         0   \n",
       "2   39          15      11       1    1.0   1   0    0         0   \n",
       "3   35           9     100       1    2.7   0   1    0         0   \n",
       "4   35           8      45       4    1.0   0   1    0         0   \n",
       "\n",
       "   Securities Account  CD Account  Online  CreditCard  Personal Loan  \n",
       "0                   1           0       0           0              0  \n",
       "1                   1           0       0           0              0  \n",
       "2                   0           0       0           0              0  \n",
       "3                   0           0       0           0              0  \n",
       "4                   0           0       0           1              0  "
      ]
     },
     "execution_count": 3,
     "metadata": {},
     "output_type": "execute_result"
    }
   ],
   "source": [
    "knn_data.head()"
   ]
  },
  {
   "cell_type": "markdown",
   "metadata": {},
   "source": [
    "### data preparation for modeling\n",
    "\n",
    "perform random split on the data to get subsets to use for training, validation, and testing\n",
    "\n",
    "---"
   ]
  },
  {
   "cell_type": "code",
   "execution_count": 42,
   "metadata": {},
   "outputs": [
    {
     "name": "stdout",
     "output_type": "stream",
     "text": [
      "Training with 2500 records\n",
      "Validating with 1875 records\n",
      "Testing with 625 records\n"
     ]
    }
   ],
   "source": [
    "train, testing = train_test_split(knn_data, test_size=0.5)\n",
    "validate, test = train_test_split(testing)\n",
    "\n",
    "print('Training with {} records'.format(train.shape[0]))\n",
    "print('Validating with {} records'.format(validate.shape[0]))\n",
    "print('Testing with {} records'.format(test.shape[0]))"
   ]
  },
  {
   "cell_type": "markdown",
   "metadata": {},
   "source": [
    "### important preprocessing step\n",
    "\n",
    "- because of how distance metric is computed, magnitude of features (large numbers vs small numbers) has an effect on how close/far observations are\n",
    "- to eliminate this, we carry out preprocessing on the training set, and transform the validation and test sets\n",
    "- transformation options include normalizing, standardizing, etc "
   ]
  },
  {
   "cell_type": "code",
   "execution_count": 43,
   "metadata": {},
   "outputs": [],
   "source": [
    "train_feats = train.drop('Personal Loan', axis=1)\n",
    "validate_feats = validate.drop('Personal Loan', axis=1)\n",
    "test_feats = test.drop('Personal Loan', axis=1)\n",
    "\n",
    "from sklearn.preprocessing import Normalizer\n",
    "\n",
    "norm = Normalizer()\n",
    "train_feats = norm.fit_transform(train_feats)\n",
    "validate_feats = norm.transform(validate_feats)\n",
    "test_feats = norm.transform(test_feats)\n",
    "\n",
    "train.reset_index(inplace=True)\n",
    "validate.reset_index(inplace=True)\n",
    "test.reset_index(inplace=True)\n",
    "\n",
    "knn_train = pd.DataFrame(data=train_feats, columns=knn_data.columns[:-1])\n",
    "knn_train['Personal Loan'] = train['Personal Loan']\n",
    "\n",
    "knn_validate = pd.DataFrame(data=validate_feats, columns=knn_data.columns[:-1])\n",
    "knn_validate['Personal Loan'] = validate['Personal Loan']\n",
    "\n",
    "knn_test = pd.DataFrame(data=test_feats, columns=knn_data.columns[:-1])\n",
    "knn_test['Personal Loan'] = test['Personal Loan']"
   ]
  },
  {
   "cell_type": "markdown",
   "metadata": {},
   "source": [
    "### searching for the best *k* neigbors\n",
    "\n",
    "- kNN classifier is a pretty intuitive and simple model to explain\n",
    "- task is to look at *k* most-similar records (customers in this case) for a customer, and the most popular loan decision (among the customers in that sample) is what you expect that customer's loan decision to be\n",
    "- \"similar\" records are computed using a distance metric (cosine similasrity in this case)\n",
    "- but how do we know what *k* to use?\n",
    "- grid search on no. of neighbors, and select the best one with the validation set\n",
    "\n",
    "----------------------------------"
   ]
  },
  {
   "cell_type": "code",
   "execution_count": 45,
   "metadata": {
    "collapsed": true
   },
   "outputs": [],
   "source": [
    "neys = range(2, 5)\n",
    "\n",
    "# initialize best params + metrics\n",
    "best_train_k = None\n",
    "best_val_k = None\n",
    "best_train_misclassification = np.inf\n",
    "best_val_misclassification = np.inf"
   ]
  },
  {
   "cell_type": "markdown",
   "metadata": {},
   "source": [
    "### building the *kNN* classifier model \n",
    "\n",
    "- in the training data, we use all records to get the similarity\n",
    "- in the validation, we use ***all training*** and ***one record at a time*** from the validation set\n",
    "- so take a customer in the validation set, get similarity with all customers in the training set, and pick the *k* most similar; take the next customer in the validation set and you get it ...\n",
    "\n",
    "-----------------------------------"
   ]
  },
  {
   "cell_type": "code",
   "execution_count": 46,
   "metadata": {},
   "outputs": [
    {
     "name": "stdout",
     "output_type": "stream",
     "text": [
      "Modeling Time : 5.4 minutes\n",
      "\n",
      "Best-k Training : 2\n",
      "Best-k Training Misclassification Rate : 0.0%\n",
      "\n",
      "Best-k Validation : 2\n",
      "Best-k Validation Misclassification Rate : 0.1%\n"
     ]
    }
   ],
   "source": [
    "# track how long it takes for the modeling \n",
    "start = time.time()\n",
    "\n",
    "for k in neys:\n",
    "    \n",
    "    # training predictions\n",
    "    preds = []\n",
    "    actual = []\n",
    "    i = 0\n",
    "\n",
    "    # get similarity matrix of all docs\n",
    "    knn_sim = cosine_similarity(knn_train)\n",
    "\n",
    "    # for each doc in training df\n",
    "    for vec in knn_sim:\n",
    "        # get indices of \"k\" most-similar docs\n",
    "        knn_indices = np.argsort(vec)[-k-1:-1]\n",
    "        # get prediction from mode of labels of \"k\" most-similar docs\n",
    "        pred = stats.mode(knn_train.iloc[knn_indices]['Personal Loan'])[0][0]\n",
    "        # append prediction and actual labels to list\n",
    "        preds.append(pred)\n",
    "        actual.append(int(knn_train.iloc[i]['Personal Loan']))\n",
    "        i += 1\n",
    "\n",
    "    # compare training predictions to actual labels and get error metric\n",
    "    misclassification_rate = np.abs((np.array(actual) - np.array(preds))).sum() / len(knn_sim)\n",
    "    \n",
    "    if misclassification_rate < best_train_misclassification:\n",
    "        best_train_misclassification = misclassification_rate\n",
    "        best_train_k = k\n",
    "\n",
    "    # validation predictions\n",
    "    preds = []\n",
    "    actual = []\n",
    "\n",
    "    # for each new doc\n",
    "    for i in range(knn_validate.shape[0]):\n",
    "        knn_validation = knn_train.append(knn_validate.iloc[i])\n",
    "        knn_validation.reset_index(inplace=True)\n",
    "        # get similarity matrix of new doc w/ training docs\n",
    "        knn_sim = cosine_similarity(knn_validation)\n",
    "        # get indices of \"k\" most-similar docs\n",
    "        knn_indices = np.argsort(knn_sim[-1])[-k-1:-1]\n",
    "        # get prediction from mode of labels of \"k\" most-similar docs\n",
    "        pred = stats.mode(knn_validation.iloc[knn_indices]['Personal Loan'])[0][0]\n",
    "        # append prediction and actual labels to list\n",
    "        preds.append(pred)\n",
    "        actual.append(int(knn_validate.iloc[i]['Personal Loan']))\n",
    "\n",
    "    # compare validation predictions to actual labels and get error metric\n",
    "    misclassification_rate = np.abs((np.array(actual) - np.array(preds))).sum() / knn_validate.shape[0]\n",
    "    \n",
    "    if misclassification_rate < best_val_misclassification:\n",
    "        best_val_misclassification = misclassification_rate\n",
    "        best_val_k = k\n",
    "    \n",
    "end = time.time()    \n",
    "\n",
    "print('Modeling Time : {:.1f} minutes'.format((end - start) / 60))\n",
    "print('')\n",
    "print('Best-k Training : {}'.format(best_train_k))\n",
    "print('Best-k Training Misclassification Rate : {:.1f}%'.format(best_train_misclassification * 100))\n",
    "print('')\n",
    "print('Best-k Validation : {}'.format(best_val_k ))\n",
    "print('Best-k Validation Misclassification Rate : {:.1f}%'.format(best_val_misclassification * 100))"
   ]
  },
  {
   "cell_type": "markdown",
   "metadata": {},
   "source": [
    "### making predictions on new loan applications\n",
    "\n",
    "- same logic as in the validation explained earlier\n",
    "- the value of *k* used for predictions is the number of neighbors with the lowest misclassification rate on the validation dataset\n",
    "- we can also see how the model performs through the test set misclassification rate\n",
    "- if this is significantly higher than the validation misclassification rate, that is an indication that the model is overfitting (increase the number of neighbors)\n",
    "- in actual model deployment, you will only have predictions at the time of using the model\n",
    "- it is good practice to evaluate the model once the actual labels are obtained to iterate and improve the model\n",
    "\n",
    "---------------------------"
   ]
  },
  {
   "cell_type": "code",
   "execution_count": 47,
   "metadata": {},
   "outputs": [
    {
     "name": "stdout",
     "output_type": "stream",
     "text": [
      "Testing Time : 0.6 minutes\n",
      "\n",
      "Test Misclassification Rate : 0.0%\n"
     ]
    }
   ],
   "source": [
    "# testing predictions\n",
    "preds = []\n",
    "actual = []\n",
    "\n",
    "start = time.time()\n",
    "# for each new doc\n",
    "for i in range(knn_test.shape[0]):\n",
    "    knn_testing = knn_train.append(knn_test.iloc[i])\n",
    "    knn_testing.reset_index(inplace=True)\n",
    "    # get similarity matrix of new doc w/ training docs\n",
    "    knn_sim = cosine_similarity(knn_testing)\n",
    "    # get indices of \"k\" most-similar docs\n",
    "    knn_indices = np.argsort(knn_sim[-1])[-best_val_k-1:-1]\n",
    "    # get prediction from mode of labels of \"k\" most-similar docs\n",
    "    pred = stats.mode(knn_testing.iloc[knn_indices]['Personal Loan'])[0][0]\n",
    "    # append prediction and actual labels to list\n",
    "    preds.append(pred)\n",
    "    actual.append(int(knn_test.iloc[i]['Personal Loan']))\n",
    "end = time.time()\n",
    "\n",
    "# compare testing predictions to actual labels and get error metric\n",
    "test_misclassification_rate = np.abs((np.array(actual) - np.array(preds))).sum() / knn_test.shape[0]\n",
    "\n",
    "print('Testing Time : {:.1f} minutes'.format((end - start) / 60))\n",
    "print('')\n",
    "print('Test Misclassification Rate : {:.1f}%'.format(test_misclassification_rate * 100))"
   ]
  },
  {
   "cell_type": "markdown",
   "metadata": {},
   "source": [
    "### other stuff\n",
    "\n",
    "if you are reading this from a different source, check out my other micro-projects on my [GitHub](https://www.github.com/olaadapo), and/or articles on [Medium](https://medium.com/@adeoyewole)"
   ]
  }
 ],
 "metadata": {
  "kernelspec": {
   "display_name": "Python 3",
   "language": "python",
   "name": "python3"
  },
  "language_info": {
   "codemirror_mode": {
    "name": "ipython",
    "version": 3
   },
   "file_extension": ".py",
   "mimetype": "text/x-python",
   "name": "python",
   "nbconvert_exporter": "python",
   "pygments_lexer": "ipython3",
   "version": "3.6.1"
  }
 },
 "nbformat": 4,
 "nbformat_minor": 2
}
